{
 "cells": [
  {
   "cell_type": "code",
   "execution_count": null,
   "metadata": {},
   "outputs": [],
   "source": [
    "%matplotlib inline\n",
    "# Call needed libraries\n",
    "from keras.utils import to_categorical\n",
    "from keras.models import Sequential\n",
    "from keras.layers import Dense, Conv2D, Flatten\n",
    "from sklearn.model_selection import train_test_split\n",
    "import matplotlib.pyplot as plt\n",
    "import numpy as np\n",
    "import pandas as pd\n",
    "import json\n",
    "import math\n",
    "import os\n",
    "import keras\n",
    "from IPython.display import clear_output\n",
    "os.environ[\"TF_CPP_MIN_LOG_LEVEL\"]=\"3\"\n",
    "from pprint import pprint"
   ]
  },
  {
   "cell_type": "code",
   "execution_count": null,
   "metadata": {},
   "outputs": [],
   "source": [
    "# Load and parse through the json files\n",
    "# Create a dataframe of images as well as ages for each id in a seperate array\n",
    "\n",
    "# Overall dataset\n",
    "data_images = []\n",
    "data_ages = []\n",
    "\n",
    "\n",
    "# Read in the images by id and store dataframe into x_train and age into y_train\n",
    "for f in range(100):\n",
    "    with open('Json/'+ str(f) + '.json') as data_file:    \n",
    "        data = json.load(data_file)\n",
    "        for v in data.values():\n",
    "            data_images.append(v['img'])\n",
    "            age_bin = math.ceil((v['age'] / 10)) - 1\n",
    "            data_ages.append(age_bin)\n",
    "    \n",
    "\n",
    "# Check the shape of the dataframes    \n",
    "data_images = np.array(data_images)\n",
    "data_ages = np.array(data_ages)\n",
    "print(data_images.shape)\n",
    "print(data_ages.shape)"
   ]
  },
  {
   "cell_type": "code",
   "execution_count": null,
   "metadata": {},
   "outputs": [],
   "source": [
    "# Saved the ages into the array as a bin size of 10 from 0 to 100\n",
    "data_ages[0]"
   ]
  },
  {
   "cell_type": "code",
   "execution_count": null,
   "metadata": {},
   "outputs": [],
   "source": [
    "# plot the first image in the dataset\n",
    "plt.imshow(data_images[0])"
   ]
  },
  {
   "cell_type": "code",
   "execution_count": null,
   "metadata": {},
   "outputs": [],
   "source": [
    "# Bins\n",
    "# 0-10, 11-20, 21-30, 31-40, 41-50, 51-60, 61-70, 71-80, 81-90, 91-100\n",
    "\n",
    "# Split into training and testing data\n",
    "# x denotes the images, y denotes the ages\n",
    "x_train = []\n",
    "y_train = []\n",
    "\n",
    "# x denotes the test images, y denotes the test ages\n",
    "x_test = []\n",
    "y_test = []\n",
    "\n",
    "# Size overall = 52938\n",
    "x_train = np.array(data_images[0:50000])\n",
    "y_train = np.array(data_ages[0:50000])\n",
    "\n",
    "x_test = np.array(data_images[50000:])\n",
    "y_test = np.array(data_ages[50000:])\n",
    "\n",
    "print(x_train.shape)\n",
    "print(x_test.shape)"
   ]
  },
  {
   "cell_type": "code",
   "execution_count": null,
   "metadata": {},
   "outputs": [],
   "source": [
    "# Reshaping the test images to fit the model\n",
    "\n",
    "# The number of images, size of images, grayscale indicator\n",
    "x_train = x_train.reshape(50000, 28, 28, 1)\n",
    "x_test = x_test.reshape(2938, 28, 28, 1)"
   ]
  },
  {
   "cell_type": "code",
   "execution_count": null,
   "metadata": {},
   "outputs": [],
   "source": [
    "# One-hot encode the ages/results \n",
    "y_train = to_categorical(y_train)\n",
    "y_test = to_categorical(y_test)\n",
    "\n",
    "# The first age is 24 so the category index is 2 from 0-9 bins"
   ]
  },
  {
   "cell_type": "code",
   "execution_count": null,
   "metadata": {},
   "outputs": [],
   "source": [
    "y_train[0]"
   ]
  },
  {
   "cell_type": "code",
   "execution_count": null,
   "metadata": {},
   "outputs": [],
   "source": [
    "class PlotLosses(keras.callbacks.Callback):\n",
    "    def on_train_begin(self, logs={}):\n",
    "        self.i = 0\n",
    "        self.x = []\n",
    "        self.losses = []\n",
    "        self.val_losses = []\n",
    "        \n",
    "        self.fig = plt.figure()\n",
    "        \n",
    "        self.logs = []\n",
    "\n",
    "    def on_epoch_end(self, epoch, logs={}):\n",
    "        \n",
    "        self.logs.append(logs)\n",
    "        self.x.append(self.i)\n",
    "        self.losses.append(logs.get('loss'))\n",
    "        self.val_losses.append(logs.get('val_loss'))\n",
    "        self.i += 1\n",
    "        \n",
    "        clear_output(wait=True)\n",
    "        plt.plot(self.x, self.losses, label=\"loss\")\n",
    "        plt.plot(self.x, self.val_losses, label=\"val_loss\")\n",
    "        plt.legend()\n",
    "        plt.show();\n",
    "        \n",
    "plot = PlotLosses()"
   ]
  },
  {
   "cell_type": "code",
   "execution_count": null,
   "metadata": {},
   "outputs": [],
   "source": [
    "# Create the sequential model from keras (CNN)\n",
    "model = Sequential()\n",
    "\n",
    "# Add the layers to the sequential model\n",
    "model.add(Conv2D(64, kernel_size=3, activation='relu', input_shape=(28,28,1)))\n",
    "model.add(Conv2D(32, kernel_size=3, activation='relu'))\n",
    "model.add(Flatten())\n",
    "\n",
    "# This is our output layer; 10 nodes represent bins 0 - 9\n",
    "model.add(Dense(10, activation='softmax'))"
   ]
  },
  {
   "cell_type": "code",
   "execution_count": null,
   "metadata": {},
   "outputs": [],
   "source": [
    "# Compile the model - include the accuracy metric and loss function\n",
    "# Loss function for now is categorical_crossentropy\n",
    "# loss='mean_squared_error'\n",
    "model.compile(optimizer='adam', loss='categorical_crossentropy', metrics=['accuracy'])"
   ]
  },
  {
   "cell_type": "code",
   "execution_count": null,
   "metadata": {},
   "outputs": [],
   "source": [
    "# Most important part - please work :(\n",
    "# Training the model\n",
    "# val_loss is the value of cost function for your cross validation data and loss is the value of cost function for your training data\n",
    "number_of_epochs = 100\n",
    "model.fit(x_train, y_train, validation_data=(x_test, y_test),callbacks=[plot], epochs=number_of_epochs)"
   ]
  },
  {
   "cell_type": "code",
   "execution_count": null,
   "metadata": {},
   "outputs": [],
   "source": [
    "# Predict using our trained model\n",
    "model.predict(x_test[:10])"
   ]
  },
  {
   "cell_type": "code",
   "execution_count": null,
   "metadata": {},
   "outputs": [],
   "source": [
    "# Check the accuracy of the prediction\n",
    "y_test[:10]"
   ]
  }
 ],
 "metadata": {
  "kernelspec": {
   "display_name": "my-virtualenv-tensor",
   "language": "python",
   "name": "my-virtualenv-tensor"
  },
  "language_info": {
   "codemirror_mode": {
    "name": "ipython",
    "version": 3
   },
   "file_extension": ".py",
   "mimetype": "text/x-python",
   "name": "python",
   "nbconvert_exporter": "python",
   "pygments_lexer": "ipython3",
   "version": "3.5.5"
  }
 },
 "nbformat": 4,
 "nbformat_minor": 2
}
